{
 "cells": [
  {
   "cell_type": "code",
   "execution_count": 18,
   "id": "0f585dad",
   "metadata": {},
   "outputs": [
    {
     "name": "stdout",
     "output_type": "stream",
     "text": [
      "/projectnb/cs585bp/nkono/IVC_MDE\n"
     ]
    }
   ],
   "source": [
    "cd ../../nkono/IVC_MDE"
   ]
  },
  {
   "cell_type": "code",
   "execution_count": 1,
   "id": "38b88fa9",
   "metadata": {
    "id": "38b88fa9"
   },
   "outputs": [],
   "source": [
    "import os\n",
    "import pandas as pd \n",
    "import numpy as np\n",
    "import torch\n",
    "import torch.nn as nn\n",
    "import torch.optim as optim\n",
    "from torch.utils.data import DataLoader\n",
    "from torchvision import transforms\n",
    "from matplotlib import pyplot as plt\n",
    "\n",
    "from torch.utils.data import Dataset\n",
    "from PIL import Image\n",
    "import glob\n",
    "\n",
    "from torchvision import models\n",
    "import tqdm\n",
    "\n",
    "import time\n",
    "from torch.autograd import Variable\n",
    "import torch.nn.functional as F\n",
    "from torchvision.transforms import Resize, Compose, ToPILImage, ToTensor\n",
    "import pickle\n",
    "import math\n",
    "import random\n",
    "from torchvision.transforms import RandomCrop\n",
    "#os.chdir('/projectnb/cs585bp/jkoh/')\n",
    "#from SILog import SILogLoss\n",
    "#os.chdir('/projectnb/cs585bp/krishna/project/')\n",
    "from SILog import SILogLoss\n",
    "OUT_SIZE = (2200, 1550)"
   ]
  },
  {
   "cell_type": "code",
   "execution_count": 2,
   "id": "7d07b5dd",
   "metadata": {},
   "outputs": [],
   "source": [
    "def gradient_difs(output, target):\n",
    "    #roll\n",
    "    out_roll_2 = torch.roll(output,1,2)\n",
    "    out_roll_3 = torch.roll(output,1,3)\n",
    "    tar_roll_2 = torch.roll(target,1,2)\n",
    "    tar_roll_3 = torch.roll(target,1,3)\n",
    "    \n",
    "    #get gradients\n",
    "    out_grad_2 = output - out_roll_2\n",
    "    out_grad_3 = output - out_roll_3\n",
    "    tar_grad_2 = target - tar_roll_2\n",
    "    tar_grad_3 = target - tar_roll_3\n",
    "    \n",
    "    #gradient diffs\n",
    "    grad_2_dif = (out_grad_2 - tar_grad_2)**2\n",
    "    grad_3_dif = (out_grad_3 - tar_grad_3)**2\n",
    "    \n",
    "    grad_dif = torch.mean(grad_2_dif + grad_3_dif)\n",
    "    \n",
    "    return grad_dif"
   ]
  },
  {
   "cell_type": "code",
   "execution_count": 3,
   "id": "pni49kG_K-sG",
   "metadata": {
    "id": "pni49kG_K-sG"
   },
   "outputs": [],
   "source": [
    "## a pretty function, but it doesn't work :(\n",
    "    ##our model doesn't do exactly half upscaling because the dimensions aren't powers of 2. using resize instead\n",
    "\n",
    "def reduce_tensor(input_tensor, scale_down = 2, mode = \"mean\"):\n",
    "    \"\"\"\n",
    "    mode can be mean, max, or min\n",
    "    \"\"\"\n",
    "    batch, _, input_w, input_h = input_tensor.shape\n",
    "    output_w = int(input_w/scale_down)\n",
    "    output_h = int(input_h/scale_down)\n",
    "\n",
    "    output_tensor = input_tensor.view(batch,scale_down**2,output_w,output_h)\n",
    "    \n",
    "    if mode == \"mean\":\n",
    "      output_tensor = output_tensor.mean(dim=1)\n",
    "\n",
    "    #if mode == \"min\":\n",
    "     # output_tensor = torch.min(output_tensor,1)\n",
    "\n",
    "    #if mode == \"max\":\n",
    "     # output_tensor = output_tensor.max(dim=1)\n",
    "    \n",
    "    output_tensor = output_tensor.unsqueeze(1)\n",
    "    \n",
    "    return output_tensor"
   ]
  },
  {
   "cell_type": "code",
   "execution_count": 3,
   "id": "yjFe9SCWLbr5",
   "metadata": {
    "colab": {
     "base_uri": "https://localhost:8080/"
    },
    "id": "yjFe9SCWLbr5",
    "outputId": "7cb6cc56-f704-4522-aa4b-ba73e3b1f1f1"
   },
   "outputs": [
    {
     "data": {
      "text/plain": [
       "torch.Size([1, 1, 500, 200])"
      ]
     },
     "execution_count": 3,
     "metadata": {},
     "output_type": "execute_result"
    }
   ],
   "source": [
    "i_t = torch.ones((1,1,2200,1550))\n",
    "r = reduce_tensor(i_t, scale_down = 2)\n",
    "r.shape\n",
    "t = transforms.Resize((500,200))(i_t)\n",
    "t.shape"
   ]
  },
  {
   "cell_type": "code",
   "execution_count": 4,
   "id": "LiIGX4CG4Y1U",
   "metadata": {
    "id": "LiIGX4CG4Y1U"
   },
   "outputs": [
    {
     "data": {
      "text/plain": [
       "Resize(size=(2200, 1550), interpolation=bilinear, max_size=None, antialias=None)"
      ]
     },
     "execution_count": 4,
     "metadata": {},
     "output_type": "execute_result"
    }
   ],
   "source": [
    "transforms.Resize(OUT_SIZE)"
   ]
  },
  {
   "cell_type": "code",
   "execution_count": 5,
   "id": "88UV9ne8RCUU",
   "metadata": {
    "colab": {
     "base_uri": "https://localhost:8080/"
    },
    "id": "88UV9ne8RCUU",
    "outputId": "f4702e80-b438-458b-9186-455d0e1e3c07"
   },
   "outputs": [
    {
     "data": {
      "text/plain": [
       "torch.Size([1, 1, 10, 10])"
      ]
     },
     "execution_count": 5,
     "metadata": {},
     "output_type": "execute_result"
    }
   ],
   "source": [
    "c = torch.ones(1,5,10,10)\n",
    "c.shape\n",
    "c[:,-1,:,:].unsqueeze(1).shape"
   ]
  },
  {
   "cell_type": "code",
   "execution_count": 4,
   "id": "d30c88ba",
   "metadata": {
    "id": "d30c88ba"
   },
   "outputs": [],
   "source": [
    "class MonocularDepthDataset(Dataset):\n",
    "    def __init__(self, df, in_transform=None,out_transform = None ):\n",
    "        self.df = df\n",
    "        self.in_transform = in_transform\n",
    "        self.out_transform = out_transform\n",
    "\n",
    "    def __len__(self):\n",
    "        return len(self.df)\n",
    "\n",
    "    def __getitem__(self, idx):\n",
    "        image_path = self.df.iloc[idx]['image']\n",
    "        depth_path = self.df.iloc[idx]['depth']\n",
    "\n",
    "        image = Image.open(image_path)\n",
    "        depth = Image.open(depth_path)\n",
    "        \n",
    "        sam_path = self.df.iloc[idx]['image']\n",
    "        sam_path = sam_path.split('/')\n",
    "        sam_path[0] = 'sam_outputs/mask/'\n",
    "        sam_path = ''.join(sam_path)\n",
    "        sam = Image.open(sam_path)\n",
    "\n",
    "        #torch.Size([1, 1, 2200, 1550])\n",
    "        #torch.Size([1, 1, 1098, 773]) #d_0\n",
    "        #torch.Size([1, 1, 550, 388]) #d_1\n",
    "        #torch.Size([1, 1, 275, 194]) #d_2\n",
    "        #torch.Size([1, 1, 138, 97]) #d_3\n",
    "        #torch.Size([1, 1, 69, 49]) #d_4\n",
    "        d_0 = depth.resize((773, 1098))#((1098, 773))#(depth)\n",
    "        d_1 = depth.resize((388, 550))#((550, 388))#(depth)\n",
    "        d_2 = depth.resize((194, 275))#((275, 194))#(depth)\n",
    "        d_3 = depth.resize((97, 138))#((138, 97))#(depth)\n",
    "        d_4 = depth.resize((49,69))#((69, 49))#(depth)\n",
    "\n",
    "\n",
    "\n",
    "        if self.in_transform:\n",
    "            image = self.in_transform(image)\n",
    "            sam = self.in_transform(sam)\n",
    "        if self.out_transform:\n",
    "            depth = self.out_transform(depth)\n",
    "            to_tensor = transforms.ToTensor()\n",
    "            d_0 = to_tensor(d_0)\n",
    "            d_1 = to_tensor(d_1)\n",
    "            d_2 = to_tensor(d_2)\n",
    "            d_3 = to_tensor(d_3)\n",
    "            d_4 = to_tensor(d_4)\n",
    "        #print(depth_path,depth.shape)\n",
    "        \n",
    "        return image, depth, d_0, d_1, d_2, d_3, d_4, sam"
   ]
  },
  {
   "cell_type": "code",
   "execution_count": 5,
   "id": "5adc8983",
   "metadata": {
    "id": "5adc8983"
   },
   "outputs": [],
   "source": [
    "def conv_relu_block(in_channel,out_channel,kernel,padding):\n",
    "    return nn.Sequential(\n",
    "            nn.Conv2d(in_channel,out_channel, kernel_size = kernel, padding=padding),\n",
    "            nn.ReLU()) #nn.ReLU(inplace=True) #nn.Ge"
   ]
  },
  {
   "cell_type": "code",
   "execution_count": 6,
   "id": "9a171402",
   "metadata": {
    "id": "9a171402"
   },
   "outputs": [],
   "source": [
    "class vanilla_unet_early_exit(nn.Module):\n",
    "    def __init__(self, n_class):\n",
    "        super().__init__()\n",
    "        self.input_1 = conv_relu_block(3,3,3,1) ##grayscale inputs\n",
    "        #self.input_2 = conv_relu_block(64, 64, 3, 1) #no extra channels\n",
    "\n",
    "        self.base_model = models.resnet18(pretrained=True)\n",
    "        self.base_layers = list(self.base_model.children())\n",
    "\n",
    "        self.l0 = nn.Sequential(*self.base_layers[:3])\n",
    "        self.U0_conv = conv_relu_block(64, 64, 1, 0)\n",
    "        self.conv_up0 = conv_relu_block(64 + 256, 128, 3, 0)\n",
    "\n",
    "        self.l1 = nn.Sequential(*self.base_layers[3:5])\n",
    "        self.U1_conv = conv_relu_block(64, 64, 1, 0)\n",
    "        self.conv_up1 = conv_relu_block(64 + 256, 256, 3, 1)\n",
    "\n",
    "        self.l2 = self.base_layers[5]\n",
    "        self.U2_conv = conv_relu_block(128, 128, 1, 0)\n",
    "        self.conv_up2 = conv_relu_block(128 + 512, 256, 3, 1)\n",
    "\n",
    "        self.l3 = self.base_layers[6]\n",
    "        self.U3_conv = conv_relu_block(256, 256, 1, 0)\n",
    "        self.conv_up3 = conv_relu_block(256 + 512, 512, 3, 1)\n",
    "\n",
    "        self.l4 = self.base_layers[7]\n",
    "        self.U4_conv = conv_relu_block(512, 512, 1, 0)\n",
    "\n",
    "        self.conv_up4 = conv_relu_block(64 + 128, 64, 3, 1)\n",
    "\n",
    "        self.out4 = nn.Conv2d(128, n_class, 1)\n",
    "\n",
    "        self.upsample = nn.Upsample(scale_factor=2, mode='bilinear', align_corners=True)\n",
    "\n",
    "    def forward(self, x, sam):\n",
    "        x = torch.cat([x,sam,x], axis = 1)\n",
    "        x = self.input_1(x)\n",
    "        \n",
    "        #print(x.shape,'x')\n",
    "         #concat on channel\n",
    "        #x_one = self.input_2(x_one)\n",
    "        block0 = self.l0(x)\n",
    "        block1 = self.l1(block0)\n",
    "        block2 = self.l2(block1)\n",
    "        block3 = self.l3(block2)\n",
    "        block4 = self.l4(block3)\n",
    "\n",
    "        block4 = self.U4_conv(block4)\n",
    "        b4_out = block4[:,-1,:,:].unsqueeze(1)\n",
    "        #print(b4_out.shape, \"block_4\")\n",
    "        x = nn.Upsample(size = (138,97), mode='bilinear', align_corners=True)(block4)\n",
    "        block3 = self.U3_conv(block3)\n",
    "        \n",
    "        x = torch.cat([x, block3], axis=1)\n",
    "        \n",
    "        x = self.conv_up3(x)\n",
    "\n",
    "        b3_out = x[:,-1,:,:].unsqueeze(1)\n",
    "        #print(b3_out.shape, \"block3\")\n",
    "        x = nn.Upsample(size = (275,194), mode='bilinear', align_corners=True)(x)\n",
    "        \n",
    "        block2 = self.U2_conv(block2)\n",
    "        \n",
    "        #print(x.shape, block2.shape)\n",
    "        x = torch.cat([x, block2], axis=1)\n",
    "        \n",
    "        x = self.conv_up2(x)\n",
    "        b2_out = x[:,-1,:,:].unsqueeze(1)\n",
    "        #print(b2_out.shape, \"block2\")\n",
    "        x = nn.Upsample(size = (550,388), mode='bilinear', align_corners=True)(x)\n",
    "        block1 = self.U1_conv(block1)\n",
    "        #print(x.shape, block1.shape)\n",
    "        \n",
    "        x = torch.cat([x, block1], axis=1)\n",
    "        \n",
    "        x = self.conv_up1(x)\n",
    "        b1_out = x[:,-1,:,:].unsqueeze(1)\n",
    "        #print(b1_out.shape, \"block1\")\n",
    "        x = nn.Upsample(size = (1100, 775), mode='bilinear', align_corners=True)(x) \n",
    "        block0 = self.U0_conv(block0)\n",
    "\n",
    "        #print(x.shape, block0.shape)\n",
    "        x = torch.cat([x, block0], axis=1)\n",
    "\n",
    "        \n",
    "        x = self.conv_up0(x)\n",
    "        b0_out = x[:,-1,:,:].unsqueeze(1)\n",
    "        #print(b0_out.shape, \"block0\")\n",
    "        out4 = self.out4(x)\n",
    "\n",
    "        out4_upsampled = F.interpolate(out4, size=OUT_SIZE, mode='bilinear', align_corners=True)\n",
    "        \n",
    "        out = out4_upsampled\n",
    "        \n",
    "        \n",
    "        return out, b0_out, b1_out, b2_out, b3_out, b4_out"
   ]
  },
  {
   "cell_type": "code",
   "execution_count": 9,
   "id": "owxKv4O-Yahx",
   "metadata": {
    "colab": {
     "base_uri": "https://localhost:8080/"
    },
    "id": "owxKv4O-Yahx",
    "outputId": "f076653e-7c30-4e4c-8321-d7b3c909e154"
   },
   "outputs": [
    {
     "name": "stderr",
     "output_type": "stream",
     "text": [
      "/share/pkg.7/pytorch/1.13.1/install/lib/SCC/../python3.10/site-packages/torchvision/models/_utils.py:208: UserWarning: The parameter 'pretrained' is deprecated since 0.13 and may be removed in the future, please use 'weights' instead.\n",
      "  warnings.warn(\n",
      "/share/pkg.7/pytorch/1.13.1/install/lib/SCC/../python3.10/site-packages/torchvision/models/_utils.py:223: UserWarning: Arguments other than a weight enum or `None` for 'weights' are deprecated since 0.13 and may be removed in the future. The current behavior is equivalent to passing `weights=ResNet18_Weights.IMAGENET1K_V1`. You can also use `weights=ResNet18_Weights.DEFAULT` to get the most up-to-date weights.\n",
      "  warnings.warn(msg)\n"
     ]
    },
    {
     "name": "stdout",
     "output_type": "stream",
     "text": [
      "torch.Size([1, 1, 2200, 1550])\n",
      "torch.Size([1, 1, 1098, 773])\n",
      "torch.Size([1, 1, 550, 388])\n",
      "torch.Size([1, 1, 275, 194])\n",
      "torch.Size([1, 1, 138, 97])\n",
      "torch.Size([1, 1, 69, 49])\n"
     ]
    }
   ],
   "source": [
    "m = vanilla_unet_early_exit(n_class=1)\n",
    "input = torch.zeros((1,1,2200,1550))\n",
    "\n",
    "o = m.forward(input)\n",
    "for i in o:\n",
    "  print(i.shape)"
   ]
  },
  {
   "cell_type": "code",
   "execution_count": null,
   "id": "EBJJRzuAi18w",
   "metadata": {
    "id": "EBJJRzuAi18w"
   },
   "outputs": [],
   "source": []
  },
  {
   "cell_type": "code",
   "execution_count": 7,
   "id": "a763a865",
   "metadata": {
    "id": "a763a865",
    "outputId": "953a0f6a-e626-44b3-a4a3-5c1b3624ee19"
   },
   "outputs": [
    {
     "name": "stderr",
     "output_type": "stream",
     "text": [
      "/share/pkg.7/pytorch/1.13.1/install/lib/SCC/../python3.10/site-packages/torchvision/models/_utils.py:208: UserWarning: The parameter 'pretrained' is deprecated since 0.13 and may be removed in the future, please use 'weights' instead.\n",
      "  warnings.warn(\n",
      "/share/pkg.7/pytorch/1.13.1/install/lib/SCC/../python3.10/site-packages/torchvision/models/_utils.py:223: UserWarning: Arguments other than a weight enum or `None` for 'weights' are deprecated since 0.13 and may be removed in the future. The current behavior is equivalent to passing `weights=ResNet18_Weights.IMAGENET1K_V1`. You can also use `weights=ResNet18_Weights.DEFAULT` to get the most up-to-date weights.\n",
      "  warnings.warn(msg)\n"
     ]
    }
   ],
   "source": [
    "model = vanilla_unet_early_exit(n_class=1)\n",
    "model = nn.DataParallel(model)\n",
    "model = model.to('cuda')"
   ]
  },
  {
   "cell_type": "code",
   "execution_count": 8,
   "id": "28fcaecc",
   "metadata": {},
   "outputs": [
    {
     "name": "stdout",
     "output_type": "stream",
     "text": [
      "/projectnb/cs585bp/krishna/project\n"
     ]
    }
   ],
   "source": [
    "cd ../../krishna/project"
   ]
  },
  {
   "cell_type": "code",
   "execution_count": 9,
   "id": "49976db4",
   "metadata": {
    "colab": {
     "referenced_widgets": [
      "a506dde400b54af699d750b622762d74",
      "81510c9264ef4e6baaa26d7a401f193b",
      "a367ef1f415f48ea9fde09dd8ad6a26f",
      "0cb78d7d0a264454ba30c3f06530a551",
      "d33a653b866345cf9e88b84926d71405",
      "308de03f814f44938a8c3ceff721aef4",
      "b5e18d7c97624557a6a2d8378ac59afe",
      "c594031e9fa24ad4a3d3797edcf78044",
      "5abafe6cb69f46e1ab638d0f97390656"
     ]
    },
    "id": "49976db4",
    "outputId": "2a4f5c2d-98a7-4a5b-c958-a1f4a65ad6a6"
   },
   "outputs": [
    {
     "data": {
      "application/vnd.jupyter.widget-view+json": {
       "model_id": "8dc5e6175a62452e99ef10ca8d4e071c",
       "version_major": 2,
       "version_minor": 0
      },
      "text/plain": [
       "  0%|          | 0/15 [00:00<?, ?it/s]"
      ]
     },
     "metadata": {},
     "output_type": "display_data"
    },
    {
     "data": {
      "application/vnd.jupyter.widget-view+json": {
       "model_id": "4b7da92c6e9449358f3084b35cd3f82b",
       "version_major": 2,
       "version_minor": 0
      },
      "text/plain": [
       "  0%|          | 0/596 [00:00<?, ?it/s]"
      ]
     },
     "metadata": {},
     "output_type": "display_data"
    },
    {
     "name": "stdout",
     "output_type": "stream",
     "text": [
      "Loss:  1779.817201345559\n"
     ]
    },
    {
     "data": {
      "application/vnd.jupyter.widget-view+json": {
       "model_id": "9ad5f86837a0429fb4b9d513e99fe19f",
       "version_major": 2,
       "version_minor": 0
      },
      "text/plain": [
       "  0%|          | 0/596 [00:00<?, ?it/s]"
      ]
     },
     "metadata": {},
     "output_type": "display_data"
    },
    {
     "name": "stdout",
     "output_type": "stream",
     "text": [
      "Loss:  1763.1579399364907\n"
     ]
    },
    {
     "data": {
      "application/vnd.jupyter.widget-view+json": {
       "model_id": "6b1bcd5819a34bc5aa44b3b0ed9a2192",
       "version_major": 2,
       "version_minor": 0
      },
      "text/plain": [
       "  0%|          | 0/596 [00:00<?, ?it/s]"
      ]
     },
     "metadata": {},
     "output_type": "display_data"
    },
    {
     "name": "stdout",
     "output_type": "stream",
     "text": [
      "Loss:  1771.5241558919818\n"
     ]
    },
    {
     "data": {
      "application/vnd.jupyter.widget-view+json": {
       "model_id": "fd846776348c418389dc656a3786a393",
       "version_major": 2,
       "version_minor": 0
      },
      "text/plain": [
       "  0%|          | 0/596 [00:00<?, ?it/s]"
      ]
     },
     "metadata": {},
     "output_type": "display_data"
    },
    {
     "name": "stdout",
     "output_type": "stream",
     "text": [
      "Loss:  1762.415429134497\n"
     ]
    },
    {
     "data": {
      "application/vnd.jupyter.widget-view+json": {
       "model_id": "da8e5d24ac9142078719fd99fb7d76c3",
       "version_major": 2,
       "version_minor": 0
      },
      "text/plain": [
       "  0%|          | 0/596 [00:00<?, ?it/s]"
      ]
     },
     "metadata": {},
     "output_type": "display_data"
    },
    {
     "name": "stdout",
     "output_type": "stream",
     "text": [
      "Loss:  1763.7803486049575\n"
     ]
    },
    {
     "data": {
      "application/vnd.jupyter.widget-view+json": {
       "model_id": "a5904b5a8f3f40b8a3a2fee4766aaddd",
       "version_major": 2,
       "version_minor": 0
      },
      "text/plain": [
       "  0%|          | 0/596 [00:00<?, ?it/s]"
      ]
     },
     "metadata": {},
     "output_type": "display_data"
    },
    {
     "name": "stdout",
     "output_type": "stream",
     "text": [
      "Loss:  1764.8615296639052\n"
     ]
    },
    {
     "data": {
      "application/vnd.jupyter.widget-view+json": {
       "model_id": "eb033f9b9be848dda1bd5eb4fec1aa00",
       "version_major": 2,
       "version_minor": 0
      },
      "text/plain": [
       "  0%|          | 0/596 [00:00<?, ?it/s]"
      ]
     },
     "metadata": {},
     "output_type": "display_data"
    },
    {
     "name": "stdout",
     "output_type": "stream",
     "text": [
      "Loss:  1757.0531039654009\n"
     ]
    },
    {
     "data": {
      "application/vnd.jupyter.widget-view+json": {
       "model_id": "206b919772c2415fa3e8a3e328d5dde0",
       "version_major": 2,
       "version_minor": 0
      },
      "text/plain": [
       "  0%|          | 0/596 [00:00<?, ?it/s]"
      ]
     },
     "metadata": {},
     "output_type": "display_data"
    },
    {
     "name": "stdout",
     "output_type": "stream",
     "text": [
      "Loss:  1755.7787590282876\n"
     ]
    },
    {
     "data": {
      "application/vnd.jupyter.widget-view+json": {
       "model_id": "00f712af96534b939c30db9b99d06ec6",
       "version_major": 2,
       "version_minor": 0
      },
      "text/plain": [
       "  0%|          | 0/596 [00:00<?, ?it/s]"
      ]
     },
     "metadata": {},
     "output_type": "display_data"
    },
    {
     "name": "stdout",
     "output_type": "stream",
     "text": [
      "Loss:  1756.958682885906\n"
     ]
    },
    {
     "data": {
      "application/vnd.jupyter.widget-view+json": {
       "model_id": "e865a0a777814286a96c387841bce81b",
       "version_major": 2,
       "version_minor": 0
      },
      "text/plain": [
       "  0%|          | 0/596 [00:00<?, ?it/s]"
      ]
     },
     "metadata": {},
     "output_type": "display_data"
    },
    {
     "name": "stdout",
     "output_type": "stream",
     "text": [
      "Loss:  1754.1925519904835\n"
     ]
    },
    {
     "data": {
      "application/vnd.jupyter.widget-view+json": {
       "model_id": "6772fcd2092240bf80620667a0ec23c8",
       "version_major": 2,
       "version_minor": 0
      },
      "text/plain": [
       "  0%|          | 0/596 [00:00<?, ?it/s]"
      ]
     },
     "metadata": {},
     "output_type": "display_data"
    },
    {
     "name": "stdout",
     "output_type": "stream",
     "text": [
      "Loss:  1752.4207911139367\n"
     ]
    },
    {
     "data": {
      "application/vnd.jupyter.widget-view+json": {
       "model_id": "48829c29b8744fe6af6be97543fc0b31",
       "version_major": 2,
       "version_minor": 0
      },
      "text/plain": [
       "  0%|          | 0/596 [00:00<?, ?it/s]"
      ]
     },
     "metadata": {},
     "output_type": "display_data"
    },
    {
     "name": "stdout",
     "output_type": "stream",
     "text": [
      "Loss:  1751.1009723228096\n"
     ]
    },
    {
     "data": {
      "application/vnd.jupyter.widget-view+json": {
       "model_id": "4c7d3e7183a54657a19a77d56d41f4da",
       "version_major": 2,
       "version_minor": 0
      },
      "text/plain": [
       "  0%|          | 0/596 [00:00<?, ?it/s]"
      ]
     },
     "metadata": {},
     "output_type": "display_data"
    },
    {
     "name": "stdout",
     "output_type": "stream",
     "text": [
      "Loss:  1748.2666710975186\n"
     ]
    },
    {
     "data": {
      "application/vnd.jupyter.widget-view+json": {
       "model_id": "30feefeb561243b0a995e6f7d8354dc7",
       "version_major": 2,
       "version_minor": 0
      },
      "text/plain": [
       "  0%|          | 0/596 [00:00<?, ?it/s]"
      ]
     },
     "metadata": {},
     "output_type": "display_data"
    },
    {
     "name": "stdout",
     "output_type": "stream",
     "text": [
      "Loss:  1746.859655188234\n"
     ]
    },
    {
     "data": {
      "application/vnd.jupyter.widget-view+json": {
       "model_id": "3cd75d01edd9447a9cb4c525dc7360b1",
       "version_major": 2,
       "version_minor": 0
      },
      "text/plain": [
       "  0%|          | 0/596 [00:00<?, ?it/s]"
      ]
     },
     "metadata": {},
     "output_type": "display_data"
    },
    {
     "name": "stdout",
     "output_type": "stream",
     "text": [
      "Loss:  1746.6665885976497\n"
     ]
    }
   ],
   "source": [
    "# Set hyperparameters, dataset paths, and other configurations\n",
    "batch_size = 3\n",
    "learning_rate = 0.001\n",
    "num_epochs = 15\n",
    "device = torch.device(\"cuda\" if torch.cuda.is_available() else \"cpu\")\n",
    "\n",
    "in_transform = transforms.Compose([\n",
    "    transforms.Resize(OUT_SIZE),\n",
    "    transforms.ToTensor()\n",
    "])\n",
    "\n",
    "out_transform = transforms.Compose([\n",
    "    transforms.Resize(OUT_SIZE),\n",
    "    transforms.ToTensor()\n",
    "])\n",
    "\n",
    "df = pd.read_csv('train.csv')\n",
    "train_dataset = MonocularDepthDataset(df, in_transform = in_transform, out_transform = out_transform)\n",
    "#val_dataset = MonocularDepthDataset(val_image_paths, val_depth_paths, transform)\n",
    "\n",
    "train_dataloader = DataLoader(train_dataset, batch_size=batch_size, shuffle=True, num_workers=16)\n",
    "#val_dataloader = DataLoader(val_dataset, batch_size=batch_size, shuffle=False)\n",
    "\n",
    "\n",
    "criterion = SILogLoss()\n",
    "optimizer = optim.AdamW(model.parameters(), lr=learning_rate)\n",
    "losses = []\n",
    "for epoch in tqdm.notebook.tqdm(range(num_epochs)):\n",
    "    #train_loss = train(model, train_dataloader, optimizer, criterion, device)\n",
    "    \n",
    "    model.train()\n",
    "    running_loss = 0.0\n",
    "    n = 0\n",
    "    for images, depths, d_0, d_1, d_2, d_3, d_4, sam in tqdm.notebook.tqdm(train_dataloader):\n",
    "        images = images.to(device)\n",
    "        depths = depths.to(device)\n",
    "        sam = sam.to(device)\n",
    "        d_0 = d_0.to(device)\n",
    "        d_1 = d_1.to(device)\n",
    "        d_2 = d_2.to(device)\n",
    "        d_3 = d_3.to(device)\n",
    "        d_4 = d_4.to(device)\n",
    "        \n",
    "        optimizer.zero_grad()\n",
    "\n",
    "        out, b0_out, b1_out, b2_out, b3_out, b4_out = model(images, images)\n",
    "        #print('out shape',outputs.shape)\n",
    "        loss_pred = criterion(out, depths) ##output,targets\n",
    "        \n",
    "        loss_grad = gradient_difs(out, depths)\n",
    "        \n",
    "        loss_0 = criterion(b0_out, d_0)#.permute(0,1,3,2)\n",
    "        loss_1 = criterion(b1_out, d_1)\n",
    "        loss_2 = criterion(b2_out, d_2)\n",
    "        loss_3 = criterion(b3_out, d_3)\n",
    "        loss_4 = criterion(b4_out, d_4)\n",
    "        loss = loss_pred + loss_0 + loss_1 + loss_2 + loss_3 + loss_4 + loss_grad**0.5\n",
    "\n",
    "\n",
    "        loss.backward()\n",
    "        optimizer.step()\n",
    "        running_loss += loss.item()\n",
    "        #n += 1\n",
    "        #if n > 50 : break\n",
    "    #dataiter = iter(train_dataloader)\n",
    "    #example = next(dataiter)\n",
    "    #target = example[1]\n",
    "    #example = example[0]\n",
    "    #print(example.shape)\n",
    "    #ex_in = example.cuda()\n",
    "    #out_vis = model(ex_in).detach().cpu().numpy()[0][0][0]\n",
    "    #print(np.max(out_vis))\n",
    "    #print(out_vis.shape)\n",
    "    train_loss = running_loss / len(train_dataloader)\n",
    "    losses.append(train_loss)\n",
    "    print('Loss: ', train_loss)\n",
    "    #print(out_vis)\n",
    "    #print(\"Train Loss:\",train_loss)\n",
    "    #out_vis = np.nan_to_num(np.rint((out_vis/np.max(out_vis))*255))\n",
    "    \n",
    "    #print(out_vis)\n",
    "    #plt.imshow(out_vis, interpolation='nearest', cmap='gray')\n",
    "    #plt.title(\"Output\")\n",
    "    #plt.show()\n",
    "    #plt.imshow(example[0][0][0].detach().numpy(), cmap='gray')\n",
    "    #plt.show()\n",
    "    #plt.title(\"target\")\n",
    "    #target = target[0][0].detach().numpy()\n",
    "    #plt.imshow(np.rint((target/np.max(target))*255), cmap='gray')\n",
    "    #plt.show()\n",
    "\n",
    "    #val_loss = validate(model, val_dataloader, criterion, device)"
   ]
  },
  {
   "cell_type": "code",
   "execution_count": 10,
   "id": "72a396a6",
   "metadata": {},
   "outputs": [
    {
     "name": "stdout",
     "output_type": "stream",
     "text": [
      "/projectnb/cs585bp/nkono/IVC_MDE\n"
     ]
    }
   ],
   "source": [
    "cd ../../nkono/IVC_MDE"
   ]
  },
  {
   "cell_type": "code",
   "execution_count": 11,
   "id": "a2be383c",
   "metadata": {},
   "outputs": [
    {
     "data": {
      "image/png": "[encoded data removed]",
      "text/plain": [
       "<Figure size 640x480 with 1 Axes>"
      ]
     },
     "metadata": {},
     "output_type": "display_data"
    },
    {
     "data": {
      "text/plain": [
       "<Figure size 640x480 with 0 Axes>"
      ]
     },
     "metadata": {},
     "output_type": "display_data"
    }
   ],
   "source": [
    "import matplotlib.pyplot as plt\n",
    "plt.plot(losses)\n",
    "plt.title(\"Running Loss During Training (Early Exit UNet + Grads)\")\n",
    "plt.xlabel(\"Epoch\")\n",
    "plt.ylabel(\"Loss\")\n",
    "plt.show()\n",
    "plt.savefig('early_exit_unet_grad_diffs.png')\n",
    "torch.save(model.state_dict(), 'early_exit_unet_grad_diffs.pt')"
   ]
  },
  {
   "cell_type": "code",
   "execution_count": 13,
   "id": "d68a8a04",
   "metadata": {},
   "outputs": [],
   "source": [
    "model = model.load_state_dict(torch.load('early_exit_unet_grad_diffs.pt'))"
   ]
  },
  {
   "cell_type": "code",
   "execution_count": null,
   "id": "1f3e8e7a",
   "metadata": {},
   "outputs": [],
   "source": []
  }
 ],
 "metadata": {
  "accelerator": "GPU",
  "colab": {
   "provenance": []
  },
  "gpuClass": "standard",
  "kernelspec": {
   "display_name": "Python 3 (ipykernel)",
   "language": "python",
   "name": "python3"
  },
  "language_info": {
   "codemirror_mode": {
    "name": "ipython",
    "version": 3
   },
   "file_extension": ".py",
   "mimetype": "text/x-python",
   "name": "python",
   "nbconvert_exporter": "python",
   "pygments_lexer": "ipython3",
   "version": "3.10.10"
  }
 },
 "nbformat": 4,
 "nbformat_minor": 5
}
