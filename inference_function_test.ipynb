{
 "cells": [
  {
   "cell_type": "code",
   "execution_count": null,
   "id": "2c2cdafe",
   "metadata": {},
   "outputs": [],
   "source": [
    "\n",
    "\n",
    "import cv2\n",
    "\n",
    "\n",
    "def prediction(model, image, patch_size):\n",
    "    segm_img = torch.zeros(image.shape)  ##this is 2d, only one channel.  do i want (x,y,1)?\n",
    "    patch_w, patch_h = patch_size\n",
    "    #print(segm_img.shape)\n",
    "    patch_num=1\n",
    "    img_w_shape = image.shape[2]\n",
    "    img_h_shape = image.shape[3]\n",
    "    for i in range(0, img_w_shape, patch_w):   #step by the width of the patch\n",
    "        for j in range(0, img_h_shape, patch_h):  #step by height of patch\n",
    "            w_start = i\n",
    "            h_start = j\n",
    "            w_end = i+patch_w\n",
    "            h_end = j+patch_h\n",
    "            #print(img_w_shape,w_end,img_h_shape,h_end )\n",
    "            if w_end > img_w_shape:\n",
    "              w_end = img_w_shape\n",
    "              w_start = w_end - patch_w\n",
    "            if h_end > img_h_shape:\n",
    "              h_end = img_h_shape\n",
    "              h_start = h_end - patch_h\n",
    "\n",
    "\n",
    "            single_patch = image[:,:,w_start:w_end, h_start:h_end]\n",
    "            single_patch_shape = single_patch.shape\n",
    "            \n",
    "            \n",
    "            single_patch_prediction = single_patch ##single_patch is input to model\n",
    "            \n",
    "            segm_img[:,:,w_start:w_start+patch_w, h_start:h_start+patch_h] += single_patch_prediction\n",
    "          \n",
    "            #print(\"Finished processing patch number \", patch_num, \" at position \", i,j)\n",
    "            patch_num+=1\n",
    "    return segm_img"
   ]
  }
 ],
 "metadata": {
  "kernelspec": {
   "display_name": "Python 3 (ipykernel)",
   "language": "python",
   "name": "python3"
  },
  "language_info": {
   "codemirror_mode": {
    "name": "ipython",
    "version": 3
   },
   "file_extension": ".py",
   "mimetype": "text/x-python",
   "name": "python",
   "nbconvert_exporter": "python",
   "pygments_lexer": "ipython3",
   "version": "3.9.12"
  }
 },
 "nbformat": 4,
 "nbformat_minor": 5
}
