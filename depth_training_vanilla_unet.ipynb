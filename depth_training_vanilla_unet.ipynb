{
 "cells": [
  {
   "cell_type": "code",
   "execution_count": 1,
   "id": "38b88fa9",
   "metadata": {
    "id": "38b88fa9"
   },
   "outputs": [],
   "source": [
    "import os\n",
    "import pandas as pd \n",
    "import numpy as np\n",
    "import torch\n",
    "import torch.nn as nn\n",
    "import torch.optim as optim\n",
    "from torch.utils.data import DataLoader\n",
    "from torchvision import transforms\n",
    "import torchvision.transforms.functional as TF\n",
    "from torch.utils.data import Dataset\n",
    "from PIL import Image\n",
    "import glob\n",
    "\n",
    "from torchvision import models\n",
    "import tqdm\n",
    "\n",
    "import time\n",
    "from torch.autograd import Variable\n",
    "import torch.nn.functional as F\n",
    "from torchvision.transforms import Resize, Compose, ToPILImage, ToTensor\n",
    "import pickle\n",
    "import math\n",
    "\n",
    "#from efficientnet_pytorch import EfficientNet\n",
    "\n",
    "#from kornia.filters import SpatialGradient\n",
    "\n",
    "import random\n",
    "from torchvision.transforms import RandomCrop"
   ]
  },
  {
   "cell_type": "code",
   "execution_count": 11,
   "id": "YAFmAijBUCp3",
   "metadata": {
    "id": "YAFmAijBUCp3"
   },
   "outputs": [],
   "source": [
    "patch_size = (512, 512)"
   ]
  },
  {
   "cell_type": "code",
   "execution_count": 12,
   "id": "d30c88ba",
   "metadata": {
    "id": "d30c88ba"
   },
   "outputs": [],
   "source": [
    "class MonocularDepthDataset(Dataset):\n",
    "    def __init__(self, df, transform=None, crop_size=patch_size):\n",
    "        self.df = df\n",
    "        self.transform = transform\n",
    "        self.crop_size = crop_size\n",
    "        \n",
    "\n",
    "    def __len__(self):\n",
    "        return len(self.df)\n",
    "\n",
    "    def __getitem__(self, idx):\n",
    "        image_path = self.df.iloc[idx]['image']\n",
    "        depth_path = self.df.iloc[idx]['depth']\n",
    "\n",
    "        image = Image.open(image_path) ##no rgb, takes grayscale\n",
    "        depth = Image.open(depth_path)\n",
    "\n",
    "        # randomly crop image and depth\n",
    "        i, j, h, w = RandomCrop.get_params(image, output_size=(self.crop_size[0], self.crop_size[1]))\n",
    "        image = TF.crop(image, i, j, h, w)\n",
    "        depth = TF.crop(depth, i, j, h, w)\n",
    "\n",
    "        if self.transform:\n",
    "            image = self.transform(image)\n",
    "            depth = self.transform(depth)\n",
    "\n",
    "        return image, depth"
   ]
  },
  {
   "cell_type": "code",
   "execution_count": 13,
   "id": "dd2d69bc",
   "metadata": {
    "id": "dd2d69bc"
   },
   "outputs": [],
   "source": [
    "\n",
    "\n",
    "def gradient_loss_fn(gen_frames, gt_frames, alpha=1):\n",
    "    def gradient(x):\n",
    "        # idea from tf.image.image_gradients(image)\n",
    "        # https://github.com/tensorflow/tensorflow/blob/r2.1/tensorflow/python/ops/image_ops_impl.py#L3441-L3512\n",
    "        # x: (b,c,h,w), float32 or float64\n",
    "        # dx, dy: (b,c,h,w)\n",
    "\n",
    "        h_x = x.size()[-2]\n",
    "        w_x = x.size()[-1]\n",
    "        # gradient step=1\n",
    "        left = x\n",
    "        right = F.pad(x, [0, 1, 0, 0])[:, :, :, 1:]\n",
    "        top = x\n",
    "        bottom = F.pad(x, [0, 0, 0, 1])[:, :, 1:, :]\n",
    "\n",
    "        # dx, dy = torch.abs(right - left), torch.abs(bottom - top)\n",
    "        dx, dy = right - left, bottom - top \n",
    "        # dx will always have zeros in the last column, right-left\n",
    "        # dy will always have zeros in the last row,    bottom-top\n",
    "        dx[:, :, :, -1] = 0\n",
    "        dy[:, :, -1, :] = 0\n",
    "\n",
    "        return dx, dy\n",
    "\n",
    "    # gradient\n",
    "    gen_dx, gen_dy = gradient(gen_frames)\n",
    "    gt_dx, gt_dy = gradient(gt_frames)\n",
    "    #\n",
    "    grad_diff_x = torch.abs(gt_dx - gen_dx)\n",
    "    grad_diff_y = torch.abs(gt_dy - gen_dy)\n",
    "\n",
    "    # condense into one tensor and avg\n",
    "    return torch.mean(grad_diff_x ** alpha + grad_diff_y ** alpha)\n",
    "\n",
    "class DepthEstimationLoss(nn.Module):\n",
    "    def __init__(self, alpha=0.5):\n",
    "        super(DepthEstimationLoss, self).__init__()\n",
    "        self.alpha = alpha\n",
    "\n",
    "\n",
    "    def forward(self, pred_depth, true_depth):\n",
    "        pred_depth = torch.clamp(pred_depth, min=1e-8)\n",
    "        true_depth = torch.clamp(true_depth, min=1e-8)\n",
    "\n",
    "        # Scale-invariant MSE loss\n",
    "        diff = torch.log(pred_depth) - torch.log(true_depth)\n",
    "        mse_loss = torch.mean(diff**2)\n",
    "        #scale_invariant_mse_loss = mse_loss - (self.alpha * (torch.sum(diff)**2)) / (true_depth.numel()**2)\n",
    "\n",
    "    \n",
    "\n",
    "        #gradient_loss = gradient_loss_fn(pred_depth,true_depth,alpha=self.alpha)\n",
    "\n",
    "        #total_loss = (scale_invariant_mse_loss + gradient_loss)/2\n",
    "\n",
    "        return (torch.sum((pred_depth - true_depth)**2))**0.5#scale_invariant_mse_loss#total_loss"
   ]
  },
  {
   "cell_type": "code",
   "execution_count": 14,
   "id": "5adc8983",
   "metadata": {
    "id": "5adc8983"
   },
   "outputs": [],
   "source": [
    "def conv_relu_block(in_channel,out_channel,kernel,padding):\n",
    "    return nn.Sequential(\n",
    "            nn.Conv2d(in_channel,out_channel, kernel_size = kernel, padding=padding),\n",
    "            nn.ReLU()) #nn.ReLU(inplace=True) #nn.Ge"
   ]
  },
  {
   "cell_type": "code",
   "execution_count": 15,
   "id": "9a171402",
   "metadata": {
    "id": "9a171402"
   },
   "outputs": [],
   "source": [
    "class vanilla_unet(nn.Module):\n",
    "    def __init__(self, n_class):\n",
    "        super().__init__()\n",
    "        self.input_1 = conv_relu_block(3,3,3,1) ##grayscale inputs\n",
    "        #self.input_2 = conv_relu_block(64, 64, 3, 1) #no extra channels\n",
    "\n",
    "        self.base_model = models.resnet18(pretrained=True)\n",
    "        self.base_layers = list(self.base_model.children())\n",
    "\n",
    "        self.l0 = nn.Sequential(*self.base_layers[:3])\n",
    "        self.U0_conv = conv_relu_block(64, 64, 1, 0)\n",
    "        self.conv_up0 = conv_relu_block(64 + 256, 128, 3, 1)\n",
    "\n",
    "        self.l1 = nn.Sequential(*self.base_layers[3:5])\n",
    "        self.U1_conv = conv_relu_block(64, 64, 1, 0)\n",
    "        self.conv_up1 = conv_relu_block(64 + 256, 256, 3, 1)\n",
    "\n",
    "        self.l2 = self.base_layers[5]\n",
    "        self.U2_conv = conv_relu_block(128, 128, 1, 0)\n",
    "        self.conv_up2 = conv_relu_block(128 + 512, 256, 3, 1)\n",
    "\n",
    "        self.l3 = self.base_layers[6]\n",
    "        self.U3_conv = conv_relu_block(256, 256, 1, 0)\n",
    "        self.conv_up3 = conv_relu_block(256 + 512, 512, 3, 1)\n",
    "\n",
    "        self.l4 = self.base_layers[7]\n",
    "        self.U4_conv = conv_relu_block(512, 512, 1, 0)\n",
    "\n",
    "        self.conv_up4 = conv_relu_block(64 + 128, 64, 3, 1)\n",
    "\n",
    "        self.out4 = nn.Conv2d(128, n_class, 1)\n",
    "\n",
    "        self.upsample = nn.Upsample(scale_factor=2, mode='bilinear', align_corners=True)\n",
    "\n",
    "    def forward(self, x):\n",
    "        x = torch.cat([x,x,x], axis = 1)\n",
    "        x = self.input_1(x)\n",
    "        \n",
    "        #print(x.shape,'x')\n",
    "         #concat on channel\n",
    "        #x_one = self.input_2(x_one)\n",
    "        block0 = self.l0(x)\n",
    "        block1 = self.l1(block0)\n",
    "        block2 = self.l2(block1)\n",
    "        block3 = self.l3(block2)\n",
    "        block4 = self.l4(block3)\n",
    "        #print('b0: ', block0.shape)\n",
    "        #print('b1: ', block1.shape)\n",
    "        #print('b2: ', block2.shape)\n",
    "        #print('b3: ', block3.shape)\n",
    "        #print('b4: ', block4.shape)\n",
    "        \n",
    "\n",
    "        block4 = self.U4_conv(block4)\n",
    "        x = self.upsample(block4)\n",
    "\n",
    "        #print(block0.shape, block1.shape, block2.shape,block3.shape,block4.shape)\n",
    "        block3 = self.U3_conv(block3)\n",
    "        #print(x.shape, block3.shape)\n",
    "        x = torch.cat([x, block3], axis=1)\n",
    "        x = self.conv_up3(x)\n",
    "\n",
    "        x = self.upsample(x)\n",
    "        block2 = self.U2_conv(block2)\n",
    "        #print('x shape: ', x.shape)\n",
    "        #print('block2 precat: ', block2.shape)\n",
    "        x = torch.cat([x, block2], axis=1)\n",
    "        x = self.conv_up2(x)\n",
    "\n",
    "        x = self.upsample(x)\n",
    "        block1 = self.U1_conv(block1)\n",
    "        x = torch.cat([x, block1], axis=1)\n",
    "        x = self.conv_up1(x)\n",
    "\n",
    "        x = self.upsample(x)\n",
    "        block0 = self.U0_conv(block0)\n",
    "        x = torch.cat([x, block0], axis=1)\n",
    "        x = self.conv_up0(x)\n",
    "        out4 = self.out4(x)\n",
    "\n",
    "        out4_upsampled = F.interpolate(out4, scale_factor=2, mode='bilinear', align_corners=True)\n",
    "        \n",
    "        #relu = nn.ReLU()\n",
    "        out = out4_upsampled#relu(out4_upsampled)\n",
    "        \n",
    "        \n",
    "        return out\n",
    "\n"
   ]
  },
  {
   "cell_type": "code",
   "execution_count": 70,
   "id": "79b2a61e",
   "metadata": {
    "colab": {
     "base_uri": "https://localhost:8080/"
    },
    "id": "79b2a61e",
    "outputId": "7e094bd1-ea9c-4437-d7f4-410df78aea12"
   },
   "outputs": [],
   "source": [
    "v = vanilla_unet(5)"
   ]
  },
  {
   "cell_type": "code",
   "execution_count": 71,
   "id": "cAWkYz_BCsCv",
   "metadata": {
    "colab": {
     "base_uri": "https://localhost:8080/"
    },
    "id": "cAWkYz_BCsCv",
    "outputId": "51998883-11b6-41bf-d1ed-489196ab132f"
   },
   "outputs": [
    {
     "name": "stdout",
     "output_type": "stream",
     "text": [
      "torch.Size([1, 1, 1024, 1024])\n",
      "b0:  torch.Size([1, 64, 512, 512])\n",
      "b1:  torch.Size([1, 64, 256, 256])\n",
      "b2:  torch.Size([1, 128, 128, 128])\n",
      "b3:  torch.Size([1, 256, 64, 64])\n",
      "b4:  torch.Size([1, 512, 32, 32])\n",
      "x shape:  torch.Size([1, 512, 128, 128])\n",
      "block2 precat:  torch.Size([1, 128, 128, 128])\n"
     ]
    },
    {
     "data": {
      "text/plain": [
       "tensor([[[[ 0.2324,  0.2753,  0.3181,  ...,  0.2258,  0.1913,  0.1567],\n",
       "          [ 0.1522,  0.1755,  0.1987,  ...,  0.1424,  0.1067,  0.0710],\n",
       "          [ 0.0720,  0.0757,  0.0793,  ...,  0.0590,  0.0221, -0.0148],\n",
       "          ...,\n",
       "          [ 0.1539,  0.1555,  0.1572,  ...,  0.1608,  0.1143,  0.0678],\n",
       "          [ 0.1300,  0.1384,  0.1468,  ...,  0.1555,  0.1270,  0.0986],\n",
       "          [ 0.1061,  0.1213,  0.1364,  ...,  0.1502,  0.1398,  0.1293]],\n",
       "\n",
       "         [[ 0.0386,  0.0779,  0.1171,  ...,  0.1012,  0.0768,  0.0524],\n",
       "          [ 0.0123,  0.0582,  0.1040,  ...,  0.0794,  0.0827,  0.0860],\n",
       "          [-0.0140,  0.0384,  0.0909,  ...,  0.0577,  0.0886,  0.1196],\n",
       "          ...,\n",
       "          [ 0.0289,  0.0508,  0.0728,  ...,  0.0127,  0.0350,  0.0573],\n",
       "          [ 0.0424,  0.0579,  0.0733,  ...,  0.0497,  0.0531,  0.0564],\n",
       "          [ 0.0560,  0.0649,  0.0737,  ...,  0.0867,  0.0711,  0.0555]],\n",
       "\n",
       "         [[-0.0288,  0.0238,  0.0764,  ...,  0.0560,  0.0364,  0.0169],\n",
       "          [-0.0580,  0.0121,  0.0823,  ...,  0.0345,  0.0087, -0.0171],\n",
       "          [-0.0872,  0.0005,  0.0881,  ...,  0.0131, -0.0190, -0.0510],\n",
       "          ...,\n",
       "          [ 0.0140,  0.0563,  0.0986,  ...,  0.0224,  0.0085, -0.0054],\n",
       "          [-0.0233,  0.0106,  0.0444,  ...,  0.0101,  0.0028, -0.0044],\n",
       "          [-0.0605, -0.0351, -0.0097,  ..., -0.0023, -0.0029, -0.0035]],\n",
       "\n",
       "         [[ 0.0294, -0.0619, -0.1532,  ..., -0.0446, -0.0034,  0.0379],\n",
       "          [ 0.0316, -0.0257, -0.0829,  ...,  0.0078,  0.0376,  0.0675],\n",
       "          [ 0.0339,  0.0106, -0.0126,  ...,  0.0602,  0.0786,  0.0970],\n",
       "          ...,\n",
       "          [ 0.0531, -0.0093, -0.0718,  ..., -0.0412, -0.0084,  0.0245],\n",
       "          [ 0.0485, -0.0098, -0.0681,  ..., -0.0431, -0.0145,  0.0141],\n",
       "          [ 0.0439, -0.0102, -0.0644,  ..., -0.0451, -0.0207,  0.0037]],\n",
       "\n",
       "         [[-0.1380, -0.1496, -0.1611,  ..., -0.0893, -0.1293, -0.1692],\n",
       "          [-0.1255, -0.1524, -0.1792,  ..., -0.0635, -0.0902, -0.1170],\n",
       "          [-0.1130, -0.1552, -0.1974,  ..., -0.0376, -0.0512, -0.0648],\n",
       "          ...,\n",
       "          [-0.1490, -0.1434, -0.1379,  ..., -0.0710, -0.0520, -0.0331],\n",
       "          [-0.1219, -0.1243, -0.1268,  ..., -0.0556, -0.0389, -0.0222],\n",
       "          [-0.0948, -0.1052, -0.1157,  ..., -0.0403, -0.0258, -0.0114]]]],\n",
       "       grad_fn=<UpsampleBilinear2DBackward1>)"
      ]
     },
     "execution_count": 71,
     "metadata": {},
     "output_type": "execute_result"
    }
   ],
   "source": [
    "x = torch.ones((1,1,patch_size[0],patch_size[1]))\n",
    "#print(x.shape)\n",
    "v.forward(x)"
   ]
  },
  {
   "cell_type": "code",
   "execution_count": 16,
   "id": "a763a865",
   "metadata": {
    "id": "a763a865",
    "outputId": "9168409b-099c-4e2a-83fc-06220919b439"
   },
   "outputs": [
    {
     "name": "stderr",
     "output_type": "stream",
     "text": [
      "/share/pkg.7/pytorch/1.13.1/install/lib/SCC/../python3.10/site-packages/torchvision/models/_utils.py:208: UserWarning: The parameter 'pretrained' is deprecated since 0.13 and may be removed in the future, please use 'weights' instead.\n",
      "  warnings.warn(\n",
      "/share/pkg.7/pytorch/1.13.1/install/lib/SCC/../python3.10/site-packages/torchvision/models/_utils.py:223: UserWarning: Arguments other than a weight enum or `None` for 'weights' are deprecated since 0.13 and may be removed in the future. The current behavior is equivalent to passing `weights=ResNet18_Weights.IMAGENET1K_V1`. You can also use `weights=ResNet18_Weights.DEFAULT` to get the most up-to-date weights.\n",
      "  warnings.warn(msg)\n"
     ]
    }
   ],
   "source": [
    "#model = depth_model(num_classes=1).to('cuda')\n",
    "#model = resunet(n_class=1).to('cuda')\n",
    "model = vanilla_unet(n_class=1).to('cuda')\n",
    "\n",
    "#model = effunet(n_class=1).to('cuda')"
   ]
  },
  {
   "cell_type": "code",
   "execution_count": 9,
   "id": "221e4ecf",
   "metadata": {},
   "outputs": [
    {
     "name": "stdout",
     "output_type": "stream",
     "text": [
      "/projectnb/cs585bp/krishna/project\n"
     ]
    }
   ],
   "source": [
    "cd ../../krishna/project"
   ]
  },
  {
   "cell_type": "code",
   "execution_count": 18,
   "id": "49976db4",
   "metadata": {
    "colab": {
     "referenced_widgets": [
      "77245589ab5e45a5adcf2e370a151190",
      "1d75becdfe22406e8ac99ee0229a7892"
     ]
    },
    "id": "49976db4",
    "outputId": "9af91597-7ddd-43b9-ea2b-b84880e9d000"
   },
   "outputs": [
    {
     "name": "stderr",
     "output_type": "stream",
     "text": [
      "/scratch/7274861.1.academic-gpu/ipykernel_226164/6731321.py:23: TqdmDeprecationWarning: This function will be removed in tqdm==5.0.0\n",
      "Please use `tqdm.notebook.tqdm` instead of `tqdm.tqdm_notebook`\n",
      "  for epoch in tqdm.tqdm_notebook(range(num_epochs)):\n"
     ]
    },
    {
     "data": {
      "application/vnd.jupyter.widget-view+json": {
       "model_id": "681b71a651b04e5c98c0d890eb131334",
       "version_major": 2,
       "version_minor": 0
      },
      "text/plain": [
       "  0%|          | 0/1 [00:00<?, ?it/s]"
      ]
     },
     "metadata": {},
     "output_type": "display_data"
    },
    {
     "name": "stderr",
     "output_type": "stream",
     "text": [
      "/scratch/7274861.1.academic-gpu/ipykernel_226164/6731321.py:29: TqdmDeprecationWarning: This function will be removed in tqdm==5.0.0\n",
      "Please use `tqdm.notebook.tqdm` instead of `tqdm.tqdm_notebook`\n",
      "  for images, depths in tqdm.tqdm_notebook(train_dataloader):\n"
     ]
    },
    {
     "data": {
      "application/vnd.jupyter.widget-view+json": {
       "model_id": "0cf7ce0eb3d34dce992698cf07a1588d",
       "version_major": 2,
       "version_minor": 0
      },
      "text/plain": [
       "  0%|          | 0/224 [00:00<?, ?it/s]"
      ]
     },
     "metadata": {},
     "output_type": "display_data"
    },
    {
     "name": "stdout",
     "output_type": "stream",
     "text": [
      "Training loss:  51412.20681544713\n",
      "tensor([[[[-16.1730, -21.3217, -26.4704,  ..., -30.5780, -24.8909, -19.2038],\n",
      "          [-20.7305, -27.4752, -34.2199,  ..., -39.8494, -32.4405, -25.0315],\n",
      "          [-25.2879, -33.6286, -41.9694,  ..., -49.1208, -39.9900, -30.8592],\n",
      "          ...,\n",
      "          [-27.5497, -36.9395, -46.3293,  ..., -52.5706, -42.7802, -32.9897],\n",
      "          [-22.1383, -29.6559, -37.1735,  ..., -42.1398, -34.3145, -26.4892],\n",
      "          [-16.7270, -22.3723, -28.0176,  ..., -31.7091, -25.8489, -19.9887]]],\n",
      "\n",
      "\n",
      "        [[[-15.6412, -20.4956, -25.3500,  ..., -39.2741, -31.8625, -24.4510],\n",
      "          [-19.9818, -26.3617, -32.7417,  ..., -51.6387, -41.8941, -32.1496],\n",
      "          [-24.3224, -32.2279, -40.1334,  ..., -64.0034, -51.9258, -39.8481],\n",
      "          ...,\n",
      "          [-28.8640, -38.7735, -48.6830,  ..., -37.0291, -30.2994, -23.5696],\n",
      "          [-23.1309, -31.0549, -38.9789,  ..., -29.8096, -24.4076, -19.0056],\n",
      "          [-17.3979, -23.3363, -29.2747,  ..., -22.5901, -18.5158, -14.4416]]]],\n",
      "       device='cuda:0', grad_fn=<UpsampleBilinear2DBackward1>)\n"
     ]
    }
   ],
   "source": [
    "# Set hyperparameters, dataset paths, and other configurations\n",
    "batch_size = 8\n",
    "learning_rate = 0.0005\n",
    "num_epochs = 1\n",
    "device = torch.device(\"cuda\" if torch.cuda.is_available() else \"cpu\")\n",
    "\n",
    "transform = transforms.Compose([\n",
    "    transforms.Resize(patch_size),\n",
    "    transforms.ToTensor()\n",
    "])\n",
    "\n",
    "df = pd.read_csv('train.csv')\n",
    "train_dataset = MonocularDepthDataset(df, transform = transform)\n",
    "#val_dataset = MonocularDepthDataset(val_image_paths, val_depth_paths, transform)\n",
    "\n",
    "train_dataloader = DataLoader(train_dataset, batch_size=batch_size, shuffle=True, num_workers=12)\n",
    "#val_dataloader = DataLoader(val_dataset, batch_size=batch_size, shuffle=False)\n",
    "\n",
    "\n",
    "criterion = DepthEstimationLoss()\n",
    "optimizer = optim.Adam(model.parameters(), lr=learning_rate)\n",
    "\n",
    "for epoch in tqdm.tqdm_notebook(range(num_epochs)):\n",
    "    #train_loss = train(model, train_dataloader, optimizer, criterion, device)\n",
    "    \n",
    "    model.train()\n",
    "    running_loss = 0.0\n",
    "    \n",
    "    for images, depths in tqdm.tqdm_notebook(train_dataloader):\n",
    "        images = images.to(device)\n",
    "        depths = depths.to(device)\n",
    "        \n",
    "        mask = depths == 0\n",
    "        f_img = (depths-1)/128.0\n",
    "        f_img[mask] = 0\n",
    "        depths = f_img.float()\n",
    "        \n",
    "        optimizer.zero_grad()\n",
    "\n",
    "        outputs = model(images)\n",
    "        \n",
    "        loss = criterion(outputs[-1].float(), depths.float())\n",
    "        loss.backward()\n",
    "\n",
    "        optimizer.step()\n",
    "        running_loss += loss.item()\n",
    "    train_loss = running_loss / len(train_dataloader)\n",
    "    print('Training loss: ', train_loss)\n",
    "    print(outputs)\n",
    "    #val_loss = validate(model, val_dataloader, criterion, device)"
   ]
  },
  {
   "cell_type": "code",
   "execution_count": null,
   "id": "da1d116e",
   "metadata": {},
   "outputs": [],
   "source": [
    "cd ../../nkono/IVC_MDE"
   ]
  },
  {
   "cell_type": "code",
   "execution_count": null,
   "id": "96406b03",
   "metadata": {},
   "outputs": [],
   "source": [
    "torch.save(model.state_dict(), 'good_small_model.pt')"
   ]
  },
  {
   "cell_type": "code",
   "execution_count": null,
   "id": "294280fd",
   "metadata": {
    "id": "294280fd"
   },
   "outputs": [],
   "source": [
    "pwd"
   ]
  },
  {
   "cell_type": "code",
   "execution_count": null,
   "id": "6e31ea2a",
   "metadata": {},
   "outputs": [],
   "source": []
  }
 ],
 "metadata": {
  "accelerator": "GPU",
  "colab": {
   "machine_shape": "hm",
   "provenance": []
  },
  "gpuClass": "premium",
  "kernelspec": {
   "display_name": "Python 3 (ipykernel)",
   "language": "python",
   "name": "python3"
  },
  "language_info": {
   "codemirror_mode": {
    "name": "ipython",
    "version": 3
   },
   "file_extension": ".py",
   "mimetype": "text/x-python",
   "name": "python",
   "nbconvert_exporter": "python",
   "pygments_lexer": "ipython3",
   "version": "3.10.10"
  }
 },
 "nbformat": 4,
 "nbformat_minor": 5
}
